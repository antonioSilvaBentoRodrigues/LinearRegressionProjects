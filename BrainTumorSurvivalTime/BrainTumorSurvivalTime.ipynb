{
 "cells": [
  {
   "cell_type": "code",
   "execution_count": 204,
   "id": "894ab376-1b54-4632-9f20-ebb1d631ab89",
   "metadata": {},
   "outputs": [],
   "source": [
    "import warnings\n",
    "warnings.filterwarnings('ignore')\n",
    "\n",
    "import pandas as pd\n",
    "import numpy as np\n",
    "\n",
    "import tensorflow as tf\n",
    "from tensorflow.keras.models import Sequential\n",
    "\n",
    "from sklearn.preprocessing import OneHotEncoder, StandardScaler\n",
    "from sklearn.compose import ColumnTransformer\n",
    "from sklearn.model_selection import train_test_split, GridSearchCV, KFold\n",
    "from sklearn.linear_model import LinearRegression, RidgeCV, SGDRegressor, LassoCV\n",
    "from sklearn.metrics import r2_score\n",
    "\n",
    "import matplotlib.pyplot as plt\n",
    "import seaborn as sns"
   ]
  },
  {
   "cell_type": "code",
   "execution_count": 2,
   "id": "2c511530-dcf5-45c9-8601-fa0b4e1caa42",
   "metadata": {},
   "outputs": [],
   "source": [
    "df_brain_tumor = pd.read_csv('BrainTumor.csv')"
   ]
  },
  {
   "cell_type": "markdown",
   "id": "8f2ae4d4-4365-4042-9453-50e838ef13b8",
   "metadata": {},
   "source": [
    "# Data study"
   ]
  },
  {
   "cell_type": "code",
   "execution_count": 4,
   "id": "d338f920-4e13-4852-9461-8affba6fc5c5",
   "metadata": {},
   "outputs": [
    {
     "data": {
      "text/html": [
       "<div>\n",
       "<style scoped>\n",
       "    .dataframe tbody tr th:only-of-type {\n",
       "        vertical-align: middle;\n",
       "    }\n",
       "\n",
       "    .dataframe tbody tr th {\n",
       "        vertical-align: top;\n",
       "    }\n",
       "\n",
       "    .dataframe thead th {\n",
       "        text-align: right;\n",
       "    }\n",
       "</style>\n",
       "<table border=\"1\" class=\"dataframe\">\n",
       "  <thead>\n",
       "    <tr style=\"text-align: right;\">\n",
       "      <th></th>\n",
       "      <th>Patient ID</th>\n",
       "      <th>Age</th>\n",
       "      <th>Gender</th>\n",
       "      <th>Tumor Type</th>\n",
       "      <th>Tumor Grade</th>\n",
       "      <th>Tumor Location</th>\n",
       "      <th>Treatment</th>\n",
       "      <th>Treatment Outcome</th>\n",
       "      <th>Time to Recurrence (months)</th>\n",
       "      <th>Recurrence Site</th>\n",
       "      <th>Survival Time (months)</th>\n",
       "    </tr>\n",
       "  </thead>\n",
       "  <tbody>\n",
       "    <tr>\n",
       "      <th>0</th>\n",
       "      <td>1</td>\n",
       "      <td>45</td>\n",
       "      <td>Male</td>\n",
       "      <td>Glioblastoma</td>\n",
       "      <td>IV</td>\n",
       "      <td>Frontal lobe</td>\n",
       "      <td>Surgery</td>\n",
       "      <td>Partial response</td>\n",
       "      <td>10.0</td>\n",
       "      <td>Temporal lobe</td>\n",
       "      <td>18</td>\n",
       "    </tr>\n",
       "    <tr>\n",
       "      <th>1</th>\n",
       "      <td>2</td>\n",
       "      <td>55</td>\n",
       "      <td>Female</td>\n",
       "      <td>Meningioma</td>\n",
       "      <td>I</td>\n",
       "      <td>Parietal lobe</td>\n",
       "      <td>Surgery</td>\n",
       "      <td>Complete response</td>\n",
       "      <td>NaN</td>\n",
       "      <td>NaN</td>\n",
       "      <td>36</td>\n",
       "    </tr>\n",
       "    <tr>\n",
       "      <th>2</th>\n",
       "      <td>3</td>\n",
       "      <td>60</td>\n",
       "      <td>Male</td>\n",
       "      <td>Astrocytoma</td>\n",
       "      <td>III</td>\n",
       "      <td>Occipital lobe</td>\n",
       "      <td>Surgery + Chemotherapy</td>\n",
       "      <td>Progressive disease</td>\n",
       "      <td>14.0</td>\n",
       "      <td>Frontal lobe</td>\n",
       "      <td>22</td>\n",
       "    </tr>\n",
       "    <tr>\n",
       "      <th>3</th>\n",
       "      <td>4</td>\n",
       "      <td>50</td>\n",
       "      <td>Female</td>\n",
       "      <td>Glioblastoma</td>\n",
       "      <td>IV</td>\n",
       "      <td>Temporal lobe</td>\n",
       "      <td>Surgery + Radiation therapy</td>\n",
       "      <td>Complete response</td>\n",
       "      <td>NaN</td>\n",
       "      <td>NaN</td>\n",
       "      <td>12</td>\n",
       "    </tr>\n",
       "    <tr>\n",
       "      <th>4</th>\n",
       "      <td>5</td>\n",
       "      <td>65</td>\n",
       "      <td>Male</td>\n",
       "      <td>Astrocytoma</td>\n",
       "      <td>II</td>\n",
       "      <td>Frontal lobe</td>\n",
       "      <td>Surgery + Radiation therapy</td>\n",
       "      <td>Partial response</td>\n",
       "      <td>24.0</td>\n",
       "      <td>Frontal lobe</td>\n",
       "      <td>48</td>\n",
       "    </tr>\n",
       "    <tr>\n",
       "      <th>...</th>\n",
       "      <td>...</td>\n",
       "      <td>...</td>\n",
       "      <td>...</td>\n",
       "      <td>...</td>\n",
       "      <td>...</td>\n",
       "      <td>...</td>\n",
       "      <td>...</td>\n",
       "      <td>...</td>\n",
       "      <td>...</td>\n",
       "      <td>...</td>\n",
       "      <td>...</td>\n",
       "    </tr>\n",
       "    <tr>\n",
       "      <th>1995</th>\n",
       "      <td>1996</td>\n",
       "      <td>49</td>\n",
       "      <td>Female</td>\n",
       "      <td>Meningioma</td>\n",
       "      <td>I</td>\n",
       "      <td>Parietal lobe</td>\n",
       "      <td>Radiation</td>\n",
       "      <td>Progressive disease</td>\n",
       "      <td>18.0</td>\n",
       "      <td>Parietal lobe</td>\n",
       "      <td>32</td>\n",
       "    </tr>\n",
       "    <tr>\n",
       "      <th>1996</th>\n",
       "      <td>1997</td>\n",
       "      <td>57</td>\n",
       "      <td>Male</td>\n",
       "      <td>Glioblastoma</td>\n",
       "      <td>IV</td>\n",
       "      <td>Occipital lobe</td>\n",
       "      <td>Surgery</td>\n",
       "      <td>Complete response</td>\n",
       "      <td>NaN</td>\n",
       "      <td>NaN</td>\n",
       "      <td>38</td>\n",
       "    </tr>\n",
       "    <tr>\n",
       "      <th>1997</th>\n",
       "      <td>1998</td>\n",
       "      <td>45</td>\n",
       "      <td>Female</td>\n",
       "      <td>Meningioma</td>\n",
       "      <td>I</td>\n",
       "      <td>Temporal lobe</td>\n",
       "      <td>Chemotherapy</td>\n",
       "      <td>Partial response</td>\n",
       "      <td>20.0</td>\n",
       "      <td>Temporal lobe</td>\n",
       "      <td>44</td>\n",
       "    </tr>\n",
       "    <tr>\n",
       "      <th>1998</th>\n",
       "      <td>1999</td>\n",
       "      <td>62</td>\n",
       "      <td>Male</td>\n",
       "      <td>Astrocytoma</td>\n",
       "      <td>III</td>\n",
       "      <td>Frontal lobe</td>\n",
       "      <td>Radiation</td>\n",
       "      <td>Stable disease</td>\n",
       "      <td>22.0</td>\n",
       "      <td>Frontal lobe</td>\n",
       "      <td>28</td>\n",
       "    </tr>\n",
       "    <tr>\n",
       "      <th>1999</th>\n",
       "      <td>2000</td>\n",
       "      <td>53</td>\n",
       "      <td>Female</td>\n",
       "      <td>Glioblastoma</td>\n",
       "      <td>IV</td>\n",
       "      <td>Parietal lobe</td>\n",
       "      <td>Chemotherapy + Radiation</td>\n",
       "      <td>Progressive disease</td>\n",
       "      <td>14.0</td>\n",
       "      <td>Parietal lobe</td>\n",
       "      <td>32</td>\n",
       "    </tr>\n",
       "  </tbody>\n",
       "</table>\n",
       "<p>2000 rows × 11 columns</p>\n",
       "</div>"
      ],
      "text/plain": [
       "      Patient ID  Age  Gender    Tumor Type Tumor Grade  Tumor Location  \\\n",
       "0              1   45    Male  Glioblastoma          IV    Frontal lobe   \n",
       "1              2   55  Female    Meningioma           I   Parietal lobe   \n",
       "2              3   60    Male   Astrocytoma         III  Occipital lobe   \n",
       "3              4   50  Female  Glioblastoma          IV   Temporal lobe   \n",
       "4              5   65    Male   Astrocytoma          II    Frontal lobe   \n",
       "...          ...  ...     ...           ...         ...             ...   \n",
       "1995        1996   49  Female    Meningioma           I   Parietal lobe   \n",
       "1996        1997   57    Male  Glioblastoma          IV  Occipital lobe   \n",
       "1997        1998   45  Female    Meningioma           I   Temporal lobe   \n",
       "1998        1999   62    Male   Astrocytoma         III    Frontal lobe   \n",
       "1999        2000   53  Female  Glioblastoma          IV   Parietal lobe   \n",
       "\n",
       "                        Treatment    Treatment Outcome  \\\n",
       "0                         Surgery     Partial response   \n",
       "1                         Surgery    Complete response   \n",
       "2          Surgery + Chemotherapy  Progressive disease   \n",
       "3     Surgery + Radiation therapy    Complete response   \n",
       "4     Surgery + Radiation therapy     Partial response   \n",
       "...                           ...                  ...   \n",
       "1995                    Radiation  Progressive disease   \n",
       "1996                      Surgery    Complete response   \n",
       "1997                 Chemotherapy     Partial response   \n",
       "1998                    Radiation       Stable disease   \n",
       "1999     Chemotherapy + Radiation  Progressive disease   \n",
       "\n",
       "      Time to Recurrence (months) Recurrence Site  Survival Time (months)  \n",
       "0                            10.0   Temporal lobe                      18  \n",
       "1                             NaN             NaN                      36  \n",
       "2                            14.0    Frontal lobe                      22  \n",
       "3                             NaN             NaN                      12  \n",
       "4                            24.0    Frontal lobe                      48  \n",
       "...                           ...             ...                     ...  \n",
       "1995                         18.0   Parietal lobe                      32  \n",
       "1996                          NaN             NaN                      38  \n",
       "1997                         20.0   Temporal lobe                      44  \n",
       "1998                         22.0    Frontal lobe                      28  \n",
       "1999                         14.0   Parietal lobe                      32  \n",
       "\n",
       "[2000 rows x 11 columns]"
      ]
     },
     "metadata": {},
     "output_type": "display_data"
    }
   ],
   "source": [
    "display(df_brain_tumor)"
   ]
  },
  {
   "cell_type": "code",
   "execution_count": 6,
   "id": "3761dfb7-c025-40d8-b688-7e190abe8896",
   "metadata": {},
   "outputs": [
    {
     "name": "stdout",
     "output_type": "stream",
     "text": [
      "<class 'pandas.core.frame.DataFrame'>\n",
      "RangeIndex: 2000 entries, 0 to 1999\n",
      "Data columns (total 11 columns):\n",
      " #   Column                       Non-Null Count  Dtype  \n",
      "---  ------                       --------------  -----  \n",
      " 0   Patient ID                   2000 non-null   int64  \n",
      " 1   Age                          2000 non-null   int64  \n",
      " 2   Gender                       2000 non-null   object \n",
      " 3   Tumor Type                   2000 non-null   object \n",
      " 4   Tumor Grade                  2000 non-null   object \n",
      " 5   Tumor Location               2000 non-null   object \n",
      " 6   Treatment                    2000 non-null   object \n",
      " 7   Treatment Outcome            2000 non-null   object \n",
      " 8   Time to Recurrence (months)  1438 non-null   float64\n",
      " 9   Recurrence Site              1438 non-null   object \n",
      " 10  Survival Time (months)       2000 non-null   int64  \n",
      "dtypes: float64(1), int64(3), object(7)\n",
      "memory usage: 172.0+ KB\n"
     ]
    }
   ],
   "source": [
    "df_brain_tumor.info()"
   ]
  },
  {
   "cell_type": "code",
   "execution_count": 16,
   "id": "e813d129-6628-451a-bba4-b28e634cc6ee",
   "metadata": {},
   "outputs": [
    {
     "data": {
      "text/plain": [
       "Patient ID                       0\n",
       "Age                              0\n",
       "Gender                           0\n",
       "Tumor Type                       0\n",
       "Tumor Grade                      0\n",
       "Tumor Location                   0\n",
       "Treatment                        0\n",
       "Treatment Outcome                0\n",
       "Time to Recurrence (months)    562\n",
       "Recurrence Site                562\n",
       "Survival Time (months)           0\n",
       "dtype: int64"
      ]
     },
     "execution_count": 16,
     "metadata": {},
     "output_type": "execute_result"
    }
   ],
   "source": [
    "df_brain_tumor.isna().sum()"
   ]
  },
  {
   "cell_type": "code",
   "execution_count": 11,
   "id": "32bebe4e-5ae8-49e6-b9e8-f8e7ba44038b",
   "metadata": {},
   "outputs": [
    {
     "data": {
      "text/plain": [
       "(array(['Astrocytoma', 'Glioblastoma', 'Meningioma'], dtype=object),\n",
       " array([653, 637, 710], dtype=int64))"
      ]
     },
     "execution_count": 11,
     "metadata": {},
     "output_type": "execute_result"
    }
   ],
   "source": [
    "np.unique(df_brain_tumor['Tumor Type'], return_counts=True)"
   ]
  },
  {
   "cell_type": "code",
   "execution_count": 12,
   "id": "70d0a2ed-b2a7-42ca-8350-2592320e6bc5",
   "metadata": {},
   "outputs": [
    {
     "data": {
      "text/plain": [
       "(array(['I', 'II', 'III', 'IV'], dtype=object),\n",
       " array([710, 349, 306, 635], dtype=int64))"
      ]
     },
     "execution_count": 12,
     "metadata": {},
     "output_type": "execute_result"
    }
   ],
   "source": [
    "np.unique(df_brain_tumor['Tumor Grade'], return_counts=True)"
   ]
  },
  {
   "cell_type": "code",
   "execution_count": 13,
   "id": "57099b27-8d40-48da-994c-eadb8e524a12",
   "metadata": {},
   "outputs": [
    {
     "data": {
      "text/plain": [
       "(array(['Frontal lobe', 'Occipital lobe', 'Parietal lobe', 'Temporal lobe'],\n",
       "       dtype=object),\n",
       " array([515, 485, 503, 497], dtype=int64))"
      ]
     },
     "execution_count": 13,
     "metadata": {},
     "output_type": "execute_result"
    }
   ],
   "source": [
    "np.unique(df_brain_tumor['Tumor Location'], return_counts=True)"
   ]
  },
  {
   "cell_type": "code",
   "execution_count": 14,
   "id": "97d9e2cc-cee0-493d-8d3a-339419ae8d81",
   "metadata": {},
   "outputs": [
    {
     "data": {
      "text/plain": [
       "(array(['Chemotherapy', 'Chemotherapy + Radiation', 'Radiation', 'Surgery',\n",
       "        'Surgery + Chemotherapy', 'Surgery + Radiation',\n",
       "        'Surgery + Radiation therapy'], dtype=object),\n",
       " array([123,   2,  73, 139, 779, 882,   2], dtype=int64))"
      ]
     },
     "execution_count": 14,
     "metadata": {},
     "output_type": "execute_result"
    }
   ],
   "source": [
    "np.unique(df_brain_tumor['Treatment'], return_counts=True)"
   ]
  },
  {
   "cell_type": "code",
   "execution_count": 15,
   "id": "ab952918-6f3f-4a17-a8a5-901888bc683f",
   "metadata": {},
   "outputs": [
    {
     "data": {
      "text/plain": [
       "(array(['Complete response', 'Partial response', 'Progressive disease',\n",
       "        'Stable disease'], dtype=object),\n",
       " array([561, 353, 582, 504], dtype=int64))"
      ]
     },
     "execution_count": 15,
     "metadata": {},
     "output_type": "execute_result"
    }
   ],
   "source": [
    "np.unique(df_brain_tumor['Treatment Outcome'], return_counts=True)"
   ]
  },
  {
   "cell_type": "code",
   "execution_count": 38,
   "id": "a68347cf-e85c-41ce-9413-c36d36fab5dc",
   "metadata": {},
   "outputs": [
    {
     "data": {
      "text/plain": [
       "(array(['Frontal lobe', 'Occipital lobe', 'Parietal lobe', 'Temporal lobe'],\n",
       "       dtype=object),\n",
       " array([414, 276, 367, 381], dtype=int64))"
      ]
     },
     "execution_count": 38,
     "metadata": {},
     "output_type": "execute_result"
    }
   ],
   "source": [
    "np.unique(df_brain_tumor['Recurrence Site'], return_counts=True)"
   ]
  },
  {
   "cell_type": "code",
   "execution_count": 43,
   "id": "dd3c6059-9bdd-4a7a-8a81-5fc81e78e8c0",
   "metadata": {},
   "outputs": [
    {
     "data": {
      "application/javascript": [
       "\n",
       "        if (window._pyforest_update_imports_cell) { window._pyforest_update_imports_cell('import matplotlib.pyplot as plt'); }\n",
       "    "
      ],
      "text/plain": [
       "<IPython.core.display.Javascript object>"
      ]
     },
     "metadata": {},
     "output_type": "display_data"
    },
    {
     "data": {
      "application/javascript": [
       "\n",
       "        if (window._pyforest_update_imports_cell) { window._pyforest_update_imports_cell('import matplotlib.pyplot as plt'); }\n",
       "    "
      ],
      "text/plain": [
       "<IPython.core.display.Javascript object>"
      ]
     },
     "metadata": {},
     "output_type": "display_data"
    },
    {
     "data": {
      "application/javascript": [
       "\n",
       "        if (window._pyforest_update_imports_cell) { window._pyforest_update_imports_cell('import matplotlib.pyplot as plt'); }\n",
       "    "
      ],
      "text/plain": [
       "<IPython.core.display.Javascript object>"
      ]
     },
     "metadata": {},
     "output_type": "display_data"
    },
    {
     "data": {
      "application/javascript": [
       "\n",
       "        if (window._pyforest_update_imports_cell) { window._pyforest_update_imports_cell('import matplotlib.pyplot as plt'); }\n",
       "    "
      ],
      "text/plain": [
       "<IPython.core.display.Javascript object>"
      ]
     },
     "metadata": {},
     "output_type": "display_data"
    },
    {
     "data": {
      "application/javascript": [
       "\n",
       "        if (window._pyforest_update_imports_cell) { window._pyforest_update_imports_cell('import matplotlib.pyplot as plt'); }\n",
       "    "
      ],
      "text/plain": [
       "<IPython.core.display.Javascript object>"
      ]
     },
     "metadata": {},
     "output_type": "display_data"
    },
    {
     "data": {
      "image/png": "[encoded data removed]",
      "text/plain": [
       "<Figure size 640x480 with 1 Axes>"
      ]
     },
     "metadata": {},
     "output_type": "display_data"
    }
   ],
   "source": [
    "\n",
    "plt.figure()\n",
    "plt.hist(df_brain_tumor['Time to Recurrence (months)'])\n",
    "plt.xlabel('Months')\n",
    "plt.ylabel('Count')\n",
    "plt.show()"
   ]
  },
  {
   "cell_type": "code",
   "execution_count": 32,
   "id": "60b5c832-780d-40b6-bc7a-f24cae064e26",
   "metadata": {},
   "outputs": [
    {
     "data": {
      "application/javascript": [
       "\n",
       "        if (window._pyforest_update_imports_cell) { window._pyforest_update_imports_cell('import matplotlib.pyplot as plt'); }\n",
       "    "
      ],
      "text/plain": [
       "<IPython.core.display.Javascript object>"
      ]
     },
     "metadata": {},
     "output_type": "display_data"
    },
    {
     "data": {
      "application/javascript": [
       "\n",
       "        if (window._pyforest_update_imports_cell) { window._pyforest_update_imports_cell('import matplotlib.pyplot as plt'); }\n",
       "    "
      ],
      "text/plain": [
       "<IPython.core.display.Javascript object>"
      ]
     },
     "metadata": {},
     "output_type": "display_data"
    },
    {
     "data": {
      "application/javascript": [
       "\n",
       "        if (window._pyforest_update_imports_cell) { window._pyforest_update_imports_cell('import matplotlib.pyplot as plt'); }\n",
       "    "
      ],
      "text/plain": [
       "<IPython.core.display.Javascript object>"
      ]
     },
     "metadata": {},
     "output_type": "display_data"
    },
    {
     "data": {
      "application/javascript": [
       "\n",
       "        if (window._pyforest_update_imports_cell) { window._pyforest_update_imports_cell('import matplotlib.pyplot as plt'); }\n",
       "    "
      ],
      "text/plain": [
       "<IPython.core.display.Javascript object>"
      ]
     },
     "metadata": {},
     "output_type": "display_data"
    },
    {
     "data": {
      "application/javascript": [
       "\n",
       "        if (window._pyforest_update_imports_cell) { window._pyforest_update_imports_cell('import matplotlib.pyplot as plt'); }\n",
       "    "
      ],
      "text/plain": [
       "<IPython.core.display.Javascript object>"
      ]
     },
     "metadata": {},
     "output_type": "display_data"
    },
    {
     "data": {
      "image/png": "[encoded data removed]",
      "text/plain": [
       "<Figure size 640x480 with 1 Axes>"
      ]
     },
     "metadata": {},
     "output_type": "display_data"
    }
   ],
   "source": [
    "plt.figure()\n",
    "plt.hist(df_brain_tumor['Survival Time (months)'])\n",
    "plt.xlabel('Months')\n",
    "plt.ylabel('Count')\n",
    "plt.show()"
   ]
  },
  {
   "cell_type": "code",
   "execution_count": 31,
   "id": "5f7df6a6-18e2-4527-8323-549e6805aa8c",
   "metadata": {},
   "outputs": [
    {
     "data": {
      "application/javascript": [
       "\n",
       "        if (window._pyforest_update_imports_cell) { window._pyforest_update_imports_cell('import matplotlib.pyplot as plt'); }\n",
       "    "
      ],
      "text/plain": [
       "<IPython.core.display.Javascript object>"
      ]
     },
     "metadata": {},
     "output_type": "display_data"
    },
    {
     "data": {
      "application/javascript": [
       "\n",
       "        if (window._pyforest_update_imports_cell) { window._pyforest_update_imports_cell('import matplotlib.pyplot as plt'); }\n",
       "    "
      ],
      "text/plain": [
       "<IPython.core.display.Javascript object>"
      ]
     },
     "metadata": {},
     "output_type": "display_data"
    },
    {
     "data": {
      "application/javascript": [
       "\n",
       "        if (window._pyforest_update_imports_cell) { window._pyforest_update_imports_cell('import matplotlib.pyplot as plt'); }\n",
       "    "
      ],
      "text/plain": [
       "<IPython.core.display.Javascript object>"
      ]
     },
     "metadata": {},
     "output_type": "display_data"
    },
    {
     "data": {
      "application/javascript": [
       "\n",
       "        if (window._pyforest_update_imports_cell) { window._pyforest_update_imports_cell('import matplotlib.pyplot as plt'); }\n",
       "    "
      ],
      "text/plain": [
       "<IPython.core.display.Javascript object>"
      ]
     },
     "metadata": {},
     "output_type": "display_data"
    },
    {
     "data": {
      "application/javascript": [
       "\n",
       "        if (window._pyforest_update_imports_cell) { window._pyforest_update_imports_cell('import matplotlib.pyplot as plt'); }\n",
       "    "
      ],
      "text/plain": [
       "<IPython.core.display.Javascript object>"
      ]
     },
     "metadata": {},
     "output_type": "display_data"
    },
    {
     "data": {
      "image/png": "[encoded data removed]",
      "text/plain": [
       "<Figure size 640x480 with 1 Axes>"
      ]
     },
     "metadata": {},
     "output_type": "display_data"
    }
   ],
   "source": [
    "plt.figure()\n",
    "plt.hist(df_brain_tumor['Age'])\n",
    "plt.xlabel('Age')\n",
    "plt.ylabel('Count')\n",
    "plt.show()"
   ]
  },
  {
   "cell_type": "code",
   "execution_count": 24,
   "id": "d895498e-8211-4c8c-af85-c047b38f83c6",
   "metadata": {},
   "outputs": [
    {
     "data": {
      "application/javascript": [
       "\n",
       "        if (window._pyforest_update_imports_cell) { window._pyforest_update_imports_cell('import matplotlib.pyplot as plt'); }\n",
       "    "
      ],
      "text/plain": [
       "<IPython.core.display.Javascript object>"
      ]
     },
     "metadata": {},
     "output_type": "display_data"
    },
    {
     "data": {
      "application/javascript": [
       "\n",
       "        if (window._pyforest_update_imports_cell) { window._pyforest_update_imports_cell('import matplotlib.pyplot as plt'); }\n",
       "    "
      ],
      "text/plain": [
       "<IPython.core.display.Javascript object>"
      ]
     },
     "metadata": {},
     "output_type": "display_data"
    },
    {
     "data": {
      "image/png": "[encoded data removed]",
      "text/plain": [
       "<Figure size 640x480 with 1 Axes>"
      ]
     },
     "metadata": {},
     "output_type": "display_data"
    }
   ],
   "source": [
    "plt.figure()\n",
    "sns.countplot(x = df_brain_tumor['Gender'])\n",
    "plt.show()"
   ]
  },
  {
   "cell_type": "code",
   "execution_count": 25,
   "id": "65f91241-6ee6-43e2-baf1-608b2dfa5ec4",
   "metadata": {},
   "outputs": [
    {
     "data": {
      "application/javascript": [
       "\n",
       "        if (window._pyforest_update_imports_cell) { window._pyforest_update_imports_cell('import matplotlib.pyplot as plt'); }\n",
       "    "
      ],
      "text/plain": [
       "<IPython.core.display.Javascript object>"
      ]
     },
     "metadata": {},
     "output_type": "display_data"
    },
    {
     "data": {
      "application/javascript": [
       "\n",
       "        if (window._pyforest_update_imports_cell) { window._pyforest_update_imports_cell('import matplotlib.pyplot as plt'); }\n",
       "    "
      ],
      "text/plain": [
       "<IPython.core.display.Javascript object>"
      ]
     },
     "metadata": {},
     "output_type": "display_data"
    },
    {
     "data": {
      "image/png": "[encoded data removed]",
      "text/plain": [
       "<Figure size 640x480 with 1 Axes>"
      ]
     },
     "metadata": {},
     "output_type": "display_data"
    }
   ],
   "source": [
    "plt.figure()\n",
    "sns.countplot(x = df_brain_tumor['Tumor Grade'])\n",
    "plt.show()"
   ]
  },
  {
   "cell_type": "markdown",
   "id": "ea1232a5-5b0f-48c9-af9a-d695c2df546d",
   "metadata": {},
   "source": [
    "# Data preprocessing"
   ]
  },
  {
   "cell_type": "code",
   "execution_count": 33,
   "id": "58852362-8d16-478e-a98c-880d8371bccd",
   "metadata": {},
   "outputs": [],
   "source": [
    "# Get rid of NaN values\n",
    "df_brain_tumor.dropna(axis=0, inplace=True)"
   ]
  },
  {
   "cell_type": "code",
   "execution_count": 35,
   "id": "84679684-3ab9-49b1-bc0a-ecca8b4583ab",
   "metadata": {},
   "outputs": [
    {
     "data": {
      "text/plain": [
       "Patient ID                     0\n",
       "Age                            0\n",
       "Gender                         0\n",
       "Tumor Type                     0\n",
       "Tumor Grade                    0\n",
       "Tumor Location                 0\n",
       "Treatment                      0\n",
       "Treatment Outcome              0\n",
       "Time to Recurrence (months)    0\n",
       "Recurrence Site                0\n",
       "Survival Time (months)         0\n",
       "dtype: int64"
      ]
     },
     "execution_count": 35,
     "metadata": {},
     "output_type": "execute_result"
    }
   ],
   "source": [
    "df_brain_tumor.isna().sum()"
   ]
  },
  {
   "cell_type": "code",
   "execution_count": 60,
   "id": "cdfb7a51-6d09-4053-82af-719be54cf72f",
   "metadata": {},
   "outputs": [
    {
     "data": {
      "text/html": [
       "<div>\n",
       "<style scoped>\n",
       "    .dataframe tbody tr th:only-of-type {\n",
       "        vertical-align: middle;\n",
       "    }\n",
       "\n",
       "    .dataframe tbody tr th {\n",
       "        vertical-align: top;\n",
       "    }\n",
       "\n",
       "    .dataframe thead th {\n",
       "        text-align: right;\n",
       "    }\n",
       "</style>\n",
       "<table border=\"1\" class=\"dataframe\">\n",
       "  <thead>\n",
       "    <tr style=\"text-align: right;\">\n",
       "      <th></th>\n",
       "      <th>Age</th>\n",
       "      <th>Gender</th>\n",
       "      <th>Tumor Type</th>\n",
       "      <th>Tumor Grade</th>\n",
       "      <th>Tumor Location</th>\n",
       "      <th>Treatment</th>\n",
       "      <th>Treatment Outcome</th>\n",
       "      <th>Time to Recurrence (months)</th>\n",
       "      <th>Recurrence Site</th>\n",
       "    </tr>\n",
       "  </thead>\n",
       "  <tbody>\n",
       "    <tr>\n",
       "      <th>0</th>\n",
       "      <td>45</td>\n",
       "      <td>Male</td>\n",
       "      <td>Glioblastoma</td>\n",
       "      <td>IV</td>\n",
       "      <td>Frontal lobe</td>\n",
       "      <td>Surgery</td>\n",
       "      <td>Partial response</td>\n",
       "      <td>10.0</td>\n",
       "      <td>Temporal lobe</td>\n",
       "    </tr>\n",
       "    <tr>\n",
       "      <th>2</th>\n",
       "      <td>60</td>\n",
       "      <td>Male</td>\n",
       "      <td>Astrocytoma</td>\n",
       "      <td>III</td>\n",
       "      <td>Occipital lobe</td>\n",
       "      <td>Surgery + Chemotherapy</td>\n",
       "      <td>Progressive disease</td>\n",
       "      <td>14.0</td>\n",
       "      <td>Frontal lobe</td>\n",
       "    </tr>\n",
       "    <tr>\n",
       "      <th>4</th>\n",
       "      <td>65</td>\n",
       "      <td>Male</td>\n",
       "      <td>Astrocytoma</td>\n",
       "      <td>II</td>\n",
       "      <td>Frontal lobe</td>\n",
       "      <td>Surgery + Radiation therapy</td>\n",
       "      <td>Partial response</td>\n",
       "      <td>24.0</td>\n",
       "      <td>Frontal lobe</td>\n",
       "    </tr>\n",
       "    <tr>\n",
       "      <th>5</th>\n",
       "      <td>45</td>\n",
       "      <td>Male</td>\n",
       "      <td>Glioblastoma</td>\n",
       "      <td>IV</td>\n",
       "      <td>Frontal lobe</td>\n",
       "      <td>Surgery</td>\n",
       "      <td>Partial response</td>\n",
       "      <td>10.0</td>\n",
       "      <td>Temporal lobe</td>\n",
       "    </tr>\n",
       "    <tr>\n",
       "      <th>7</th>\n",
       "      <td>60</td>\n",
       "      <td>Male</td>\n",
       "      <td>Astrocytoma</td>\n",
       "      <td>III</td>\n",
       "      <td>Occipital lobe</td>\n",
       "      <td>Surgery + Chemotherapy</td>\n",
       "      <td>Progressive disease</td>\n",
       "      <td>14.0</td>\n",
       "      <td>Frontal lobe</td>\n",
       "    </tr>\n",
       "    <tr>\n",
       "      <th>...</th>\n",
       "      <td>...</td>\n",
       "      <td>...</td>\n",
       "      <td>...</td>\n",
       "      <td>...</td>\n",
       "      <td>...</td>\n",
       "      <td>...</td>\n",
       "      <td>...</td>\n",
       "      <td>...</td>\n",
       "      <td>...</td>\n",
       "    </tr>\n",
       "    <tr>\n",
       "      <th>1994</th>\n",
       "      <td>64</td>\n",
       "      <td>Male</td>\n",
       "      <td>Astrocytoma</td>\n",
       "      <td>III</td>\n",
       "      <td>Frontal lobe</td>\n",
       "      <td>Chemotherapy</td>\n",
       "      <td>Stable disease</td>\n",
       "      <td>14.0</td>\n",
       "      <td>Frontal lobe</td>\n",
       "    </tr>\n",
       "    <tr>\n",
       "      <th>1995</th>\n",
       "      <td>49</td>\n",
       "      <td>Female</td>\n",
       "      <td>Meningioma</td>\n",
       "      <td>I</td>\n",
       "      <td>Parietal lobe</td>\n",
       "      <td>Radiation</td>\n",
       "      <td>Progressive disease</td>\n",
       "      <td>18.0</td>\n",
       "      <td>Parietal lobe</td>\n",
       "    </tr>\n",
       "    <tr>\n",
       "      <th>1997</th>\n",
       "      <td>45</td>\n",
       "      <td>Female</td>\n",
       "      <td>Meningioma</td>\n",
       "      <td>I</td>\n",
       "      <td>Temporal lobe</td>\n",
       "      <td>Chemotherapy</td>\n",
       "      <td>Partial response</td>\n",
       "      <td>20.0</td>\n",
       "      <td>Temporal lobe</td>\n",
       "    </tr>\n",
       "    <tr>\n",
       "      <th>1998</th>\n",
       "      <td>62</td>\n",
       "      <td>Male</td>\n",
       "      <td>Astrocytoma</td>\n",
       "      <td>III</td>\n",
       "      <td>Frontal lobe</td>\n",
       "      <td>Radiation</td>\n",
       "      <td>Stable disease</td>\n",
       "      <td>22.0</td>\n",
       "      <td>Frontal lobe</td>\n",
       "    </tr>\n",
       "    <tr>\n",
       "      <th>1999</th>\n",
       "      <td>53</td>\n",
       "      <td>Female</td>\n",
       "      <td>Glioblastoma</td>\n",
       "      <td>IV</td>\n",
       "      <td>Parietal lobe</td>\n",
       "      <td>Chemotherapy + Radiation</td>\n",
       "      <td>Progressive disease</td>\n",
       "      <td>14.0</td>\n",
       "      <td>Parietal lobe</td>\n",
       "    </tr>\n",
       "  </tbody>\n",
       "</table>\n",
       "<p>1438 rows × 9 columns</p>\n",
       "</div>"
      ],
      "text/plain": [
       "      Age  Gender    Tumor Type Tumor Grade  Tumor Location  \\\n",
       "0      45    Male  Glioblastoma          IV    Frontal lobe   \n",
       "2      60    Male   Astrocytoma         III  Occipital lobe   \n",
       "4      65    Male   Astrocytoma          II    Frontal lobe   \n",
       "5      45    Male  Glioblastoma          IV    Frontal lobe   \n",
       "7      60    Male   Astrocytoma         III  Occipital lobe   \n",
       "...   ...     ...           ...         ...             ...   \n",
       "1994   64    Male   Astrocytoma         III    Frontal lobe   \n",
       "1995   49  Female    Meningioma           I   Parietal lobe   \n",
       "1997   45  Female    Meningioma           I   Temporal lobe   \n",
       "1998   62    Male   Astrocytoma         III    Frontal lobe   \n",
       "1999   53  Female  Glioblastoma          IV   Parietal lobe   \n",
       "\n",
       "                        Treatment    Treatment Outcome  \\\n",
       "0                         Surgery     Partial response   \n",
       "2          Surgery + Chemotherapy  Progressive disease   \n",
       "4     Surgery + Radiation therapy     Partial response   \n",
       "5                         Surgery     Partial response   \n",
       "7          Surgery + Chemotherapy  Progressive disease   \n",
       "...                           ...                  ...   \n",
       "1994                 Chemotherapy       Stable disease   \n",
       "1995                    Radiation  Progressive disease   \n",
       "1997                 Chemotherapy     Partial response   \n",
       "1998                    Radiation       Stable disease   \n",
       "1999     Chemotherapy + Radiation  Progressive disease   \n",
       "\n",
       "      Time to Recurrence (months) Recurrence Site  \n",
       "0                            10.0   Temporal lobe  \n",
       "2                            14.0    Frontal lobe  \n",
       "4                            24.0    Frontal lobe  \n",
       "5                            10.0   Temporal lobe  \n",
       "7                            14.0    Frontal lobe  \n",
       "...                           ...             ...  \n",
       "1994                         14.0    Frontal lobe  \n",
       "1995                         18.0   Parietal lobe  \n",
       "1997                         20.0   Temporal lobe  \n",
       "1998                         22.0    Frontal lobe  \n",
       "1999                         14.0   Parietal lobe  \n",
       "\n",
       "[1438 rows x 9 columns]"
      ]
     },
     "execution_count": 60,
     "metadata": {},
     "output_type": "execute_result"
    }
   ],
   "source": [
    "X_data"
   ]
  },
  {
   "cell_type": "code",
   "execution_count": 34,
   "id": "da597a2b-9b94-4a2e-bbfc-3b55451c9b7f",
   "metadata": {},
   "outputs": [],
   "source": [
    "# Split data into features and labels\n",
    "X_data = df_brain_tumor.drop(['Patient ID','Survival Time (months)'], axis=1)\n",
    "y_data = df_brain_tumor['Survival Time (months)']"
   ]
  },
  {
   "cell_type": "code",
   "execution_count": 61,
   "id": "638a2ed7-1317-41e7-b751-688cea7b2f84",
   "metadata": {},
   "outputs": [],
   "source": [
    "# Transform categorical values into numerical form\n",
    "ct = ColumnTransformer(transformers=[('OneHot', OneHotEncoder(),[1,2,3,4,5,6,8])], remainder='passthrough')"
   ]
  },
  {
   "cell_type": "code",
   "execution_count": 62,
   "id": "e8e9f930-58c8-4269-aeba-85edddaef5cb",
   "metadata": {},
   "outputs": [],
   "source": [
    "X_data_one_hot = ct.fit_transform(X_data)"
   ]
  },
  {
   "cell_type": "code",
   "execution_count": 64,
   "id": "7deeab23-a204-4c00-b952-965ecd6c6b3e",
   "metadata": {},
   "outputs": [
    {
     "data": {
      "text/html": [
       "<div>\n",
       "<style scoped>\n",
       "    .dataframe tbody tr th:only-of-type {\n",
       "        vertical-align: middle;\n",
       "    }\n",
       "\n",
       "    .dataframe tbody tr th {\n",
       "        vertical-align: top;\n",
       "    }\n",
       "\n",
       "    .dataframe thead th {\n",
       "        text-align: right;\n",
       "    }\n",
       "</style>\n",
       "<table border=\"1\" class=\"dataframe\">\n",
       "  <thead>\n",
       "    <tr style=\"text-align: right;\">\n",
       "      <th></th>\n",
       "      <th>0</th>\n",
       "      <th>1</th>\n",
       "      <th>2</th>\n",
       "      <th>3</th>\n",
       "      <th>4</th>\n",
       "      <th>5</th>\n",
       "      <th>6</th>\n",
       "      <th>7</th>\n",
       "      <th>8</th>\n",
       "      <th>9</th>\n",
       "      <th>...</th>\n",
       "      <th>20</th>\n",
       "      <th>21</th>\n",
       "      <th>22</th>\n",
       "      <th>23</th>\n",
       "      <th>24</th>\n",
       "      <th>25</th>\n",
       "      <th>26</th>\n",
       "      <th>27</th>\n",
       "      <th>28</th>\n",
       "      <th>29</th>\n",
       "    </tr>\n",
       "  </thead>\n",
       "  <tbody>\n",
       "    <tr>\n",
       "      <th>0</th>\n",
       "      <td>0.0</td>\n",
       "      <td>1.0</td>\n",
       "      <td>0.0</td>\n",
       "      <td>1.0</td>\n",
       "      <td>0.0</td>\n",
       "      <td>0.0</td>\n",
       "      <td>0.0</td>\n",
       "      <td>0.0</td>\n",
       "      <td>1.0</td>\n",
       "      <td>1.0</td>\n",
       "      <td>...</td>\n",
       "      <td>0.0</td>\n",
       "      <td>1.0</td>\n",
       "      <td>0.0</td>\n",
       "      <td>0.0</td>\n",
       "      <td>0.0</td>\n",
       "      <td>0.0</td>\n",
       "      <td>0.0</td>\n",
       "      <td>1.0</td>\n",
       "      <td>45.0</td>\n",
       "      <td>10.0</td>\n",
       "    </tr>\n",
       "    <tr>\n",
       "      <th>1</th>\n",
       "      <td>0.0</td>\n",
       "      <td>1.0</td>\n",
       "      <td>1.0</td>\n",
       "      <td>0.0</td>\n",
       "      <td>0.0</td>\n",
       "      <td>0.0</td>\n",
       "      <td>0.0</td>\n",
       "      <td>1.0</td>\n",
       "      <td>0.0</td>\n",
       "      <td>0.0</td>\n",
       "      <td>...</td>\n",
       "      <td>0.0</td>\n",
       "      <td>0.0</td>\n",
       "      <td>1.0</td>\n",
       "      <td>0.0</td>\n",
       "      <td>1.0</td>\n",
       "      <td>0.0</td>\n",
       "      <td>0.0</td>\n",
       "      <td>0.0</td>\n",
       "      <td>60.0</td>\n",
       "      <td>14.0</td>\n",
       "    </tr>\n",
       "    <tr>\n",
       "      <th>2</th>\n",
       "      <td>0.0</td>\n",
       "      <td>1.0</td>\n",
       "      <td>1.0</td>\n",
       "      <td>0.0</td>\n",
       "      <td>0.0</td>\n",
       "      <td>0.0</td>\n",
       "      <td>1.0</td>\n",
       "      <td>0.0</td>\n",
       "      <td>0.0</td>\n",
       "      <td>1.0</td>\n",
       "      <td>...</td>\n",
       "      <td>0.0</td>\n",
       "      <td>1.0</td>\n",
       "      <td>0.0</td>\n",
       "      <td>0.0</td>\n",
       "      <td>1.0</td>\n",
       "      <td>0.0</td>\n",
       "      <td>0.0</td>\n",
       "      <td>0.0</td>\n",
       "      <td>65.0</td>\n",
       "      <td>24.0</td>\n",
       "    </tr>\n",
       "    <tr>\n",
       "      <th>3</th>\n",
       "      <td>0.0</td>\n",
       "      <td>1.0</td>\n",
       "      <td>0.0</td>\n",
       "      <td>1.0</td>\n",
       "      <td>0.0</td>\n",
       "      <td>0.0</td>\n",
       "      <td>0.0</td>\n",
       "      <td>0.0</td>\n",
       "      <td>1.0</td>\n",
       "      <td>1.0</td>\n",
       "      <td>...</td>\n",
       "      <td>0.0</td>\n",
       "      <td>1.0</td>\n",
       "      <td>0.0</td>\n",
       "      <td>0.0</td>\n",
       "      <td>0.0</td>\n",
       "      <td>0.0</td>\n",
       "      <td>0.0</td>\n",
       "      <td>1.0</td>\n",
       "      <td>45.0</td>\n",
       "      <td>10.0</td>\n",
       "    </tr>\n",
       "    <tr>\n",
       "      <th>4</th>\n",
       "      <td>0.0</td>\n",
       "      <td>1.0</td>\n",
       "      <td>1.0</td>\n",
       "      <td>0.0</td>\n",
       "      <td>0.0</td>\n",
       "      <td>0.0</td>\n",
       "      <td>0.0</td>\n",
       "      <td>1.0</td>\n",
       "      <td>0.0</td>\n",
       "      <td>0.0</td>\n",
       "      <td>...</td>\n",
       "      <td>0.0</td>\n",
       "      <td>0.0</td>\n",
       "      <td>1.0</td>\n",
       "      <td>0.0</td>\n",
       "      <td>1.0</td>\n",
       "      <td>0.0</td>\n",
       "      <td>0.0</td>\n",
       "      <td>0.0</td>\n",
       "      <td>60.0</td>\n",
       "      <td>14.0</td>\n",
       "    </tr>\n",
       "    <tr>\n",
       "      <th>...</th>\n",
       "      <td>...</td>\n",
       "      <td>...</td>\n",
       "      <td>...</td>\n",
       "      <td>...</td>\n",
       "      <td>...</td>\n",
       "      <td>...</td>\n",
       "      <td>...</td>\n",
       "      <td>...</td>\n",
       "      <td>...</td>\n",
       "      <td>...</td>\n",
       "      <td>...</td>\n",
       "      <td>...</td>\n",
       "      <td>...</td>\n",
       "      <td>...</td>\n",
       "      <td>...</td>\n",
       "      <td>...</td>\n",
       "      <td>...</td>\n",
       "      <td>...</td>\n",
       "      <td>...</td>\n",
       "      <td>...</td>\n",
       "      <td>...</td>\n",
       "    </tr>\n",
       "    <tr>\n",
       "      <th>1433</th>\n",
       "      <td>0.0</td>\n",
       "      <td>1.0</td>\n",
       "      <td>1.0</td>\n",
       "      <td>0.0</td>\n",
       "      <td>0.0</td>\n",
       "      <td>0.0</td>\n",
       "      <td>0.0</td>\n",
       "      <td>1.0</td>\n",
       "      <td>0.0</td>\n",
       "      <td>1.0</td>\n",
       "      <td>...</td>\n",
       "      <td>0.0</td>\n",
       "      <td>0.0</td>\n",
       "      <td>0.0</td>\n",
       "      <td>1.0</td>\n",
       "      <td>1.0</td>\n",
       "      <td>0.0</td>\n",
       "      <td>0.0</td>\n",
       "      <td>0.0</td>\n",
       "      <td>64.0</td>\n",
       "      <td>14.0</td>\n",
       "    </tr>\n",
       "    <tr>\n",
       "      <th>1434</th>\n",
       "      <td>1.0</td>\n",
       "      <td>0.0</td>\n",
       "      <td>0.0</td>\n",
       "      <td>0.0</td>\n",
       "      <td>1.0</td>\n",
       "      <td>1.0</td>\n",
       "      <td>0.0</td>\n",
       "      <td>0.0</td>\n",
       "      <td>0.0</td>\n",
       "      <td>0.0</td>\n",
       "      <td>...</td>\n",
       "      <td>0.0</td>\n",
       "      <td>0.0</td>\n",
       "      <td>1.0</td>\n",
       "      <td>0.0</td>\n",
       "      <td>0.0</td>\n",
       "      <td>0.0</td>\n",
       "      <td>1.0</td>\n",
       "      <td>0.0</td>\n",
       "      <td>49.0</td>\n",
       "      <td>18.0</td>\n",
       "    </tr>\n",
       "    <tr>\n",
       "      <th>1435</th>\n",
       "      <td>1.0</td>\n",
       "      <td>0.0</td>\n",
       "      <td>0.0</td>\n",
       "      <td>0.0</td>\n",
       "      <td>1.0</td>\n",
       "      <td>1.0</td>\n",
       "      <td>0.0</td>\n",
       "      <td>0.0</td>\n",
       "      <td>0.0</td>\n",
       "      <td>0.0</td>\n",
       "      <td>...</td>\n",
       "      <td>0.0</td>\n",
       "      <td>1.0</td>\n",
       "      <td>0.0</td>\n",
       "      <td>0.0</td>\n",
       "      <td>0.0</td>\n",
       "      <td>0.0</td>\n",
       "      <td>0.0</td>\n",
       "      <td>1.0</td>\n",
       "      <td>45.0</td>\n",
       "      <td>20.0</td>\n",
       "    </tr>\n",
       "    <tr>\n",
       "      <th>1436</th>\n",
       "      <td>0.0</td>\n",
       "      <td>1.0</td>\n",
       "      <td>1.0</td>\n",
       "      <td>0.0</td>\n",
       "      <td>0.0</td>\n",
       "      <td>0.0</td>\n",
       "      <td>0.0</td>\n",
       "      <td>1.0</td>\n",
       "      <td>0.0</td>\n",
       "      <td>1.0</td>\n",
       "      <td>...</td>\n",
       "      <td>0.0</td>\n",
       "      <td>0.0</td>\n",
       "      <td>0.0</td>\n",
       "      <td>1.0</td>\n",
       "      <td>1.0</td>\n",
       "      <td>0.0</td>\n",
       "      <td>0.0</td>\n",
       "      <td>0.0</td>\n",
       "      <td>62.0</td>\n",
       "      <td>22.0</td>\n",
       "    </tr>\n",
       "    <tr>\n",
       "      <th>1437</th>\n",
       "      <td>1.0</td>\n",
       "      <td>0.0</td>\n",
       "      <td>0.0</td>\n",
       "      <td>1.0</td>\n",
       "      <td>0.0</td>\n",
       "      <td>0.0</td>\n",
       "      <td>0.0</td>\n",
       "      <td>0.0</td>\n",
       "      <td>1.0</td>\n",
       "      <td>0.0</td>\n",
       "      <td>...</td>\n",
       "      <td>0.0</td>\n",
       "      <td>0.0</td>\n",
       "      <td>1.0</td>\n",
       "      <td>0.0</td>\n",
       "      <td>0.0</td>\n",
       "      <td>0.0</td>\n",
       "      <td>1.0</td>\n",
       "      <td>0.0</td>\n",
       "      <td>53.0</td>\n",
       "      <td>14.0</td>\n",
       "    </tr>\n",
       "  </tbody>\n",
       "</table>\n",
       "<p>1438 rows × 30 columns</p>\n",
       "</div>"
      ],
      "text/plain": [
       "       0    1    2    3    4    5    6    7    8    9   ...   20   21   22  \\\n",
       "0     0.0  1.0  0.0  1.0  0.0  0.0  0.0  0.0  1.0  1.0  ...  0.0  1.0  0.0   \n",
       "1     0.0  1.0  1.0  0.0  0.0  0.0  0.0  1.0  0.0  0.0  ...  0.0  0.0  1.0   \n",
       "2     0.0  1.0  1.0  0.0  0.0  0.0  1.0  0.0  0.0  1.0  ...  0.0  1.0  0.0   \n",
       "3     0.0  1.0  0.0  1.0  0.0  0.0  0.0  0.0  1.0  1.0  ...  0.0  1.0  0.0   \n",
       "4     0.0  1.0  1.0  0.0  0.0  0.0  0.0  1.0  0.0  0.0  ...  0.0  0.0  1.0   \n",
       "...   ...  ...  ...  ...  ...  ...  ...  ...  ...  ...  ...  ...  ...  ...   \n",
       "1433  0.0  1.0  1.0  0.0  0.0  0.0  0.0  1.0  0.0  1.0  ...  0.0  0.0  0.0   \n",
       "1434  1.0  0.0  0.0  0.0  1.0  1.0  0.0  0.0  0.0  0.0  ...  0.0  0.0  1.0   \n",
       "1435  1.0  0.0  0.0  0.0  1.0  1.0  0.0  0.0  0.0  0.0  ...  0.0  1.0  0.0   \n",
       "1436  0.0  1.0  1.0  0.0  0.0  0.0  0.0  1.0  0.0  1.0  ...  0.0  0.0  0.0   \n",
       "1437  1.0  0.0  0.0  1.0  0.0  0.0  0.0  0.0  1.0  0.0  ...  0.0  0.0  1.0   \n",
       "\n",
       "       23   24   25   26   27    28    29  \n",
       "0     0.0  0.0  0.0  0.0  1.0  45.0  10.0  \n",
       "1     0.0  1.0  0.0  0.0  0.0  60.0  14.0  \n",
       "2     0.0  1.0  0.0  0.0  0.0  65.0  24.0  \n",
       "3     0.0  0.0  0.0  0.0  1.0  45.0  10.0  \n",
       "4     0.0  1.0  0.0  0.0  0.0  60.0  14.0  \n",
       "...   ...  ...  ...  ...  ...   ...   ...  \n",
       "1433  1.0  1.0  0.0  0.0  0.0  64.0  14.0  \n",
       "1434  0.0  0.0  0.0  1.0  0.0  49.0  18.0  \n",
       "1435  0.0  0.0  0.0  0.0  1.0  45.0  20.0  \n",
       "1436  1.0  1.0  0.0  0.0  0.0  62.0  22.0  \n",
       "1437  0.0  0.0  0.0  1.0  0.0  53.0  14.0  \n",
       "\n",
       "[1438 rows x 30 columns]"
      ]
     },
     "execution_count": 64,
     "metadata": {},
     "output_type": "execute_result"
    }
   ],
   "source": [
    "# Visualize transformation\n",
    "pd.DataFrame(X_data_one_hot)"
   ]
  },
  {
   "cell_type": "code",
   "execution_count": 173,
   "id": "f1e8f543-9416-4558-9d29-abc310a863df",
   "metadata": {},
   "outputs": [],
   "source": [
    "X_train, X_test, y_train, y_test = train_test_split(X_data_one_hot,\n",
    "                                                    y_data,\n",
    "                                                    test_size=0.2,\n",
    "                                                    shuffle=True,\n",
    "                                                    random_state=42)\n",
    "X_train, X_val, y_train, y_val = train_test_split(X_train,\n",
    "                                                  y_train,\n",
    "                                                  test_size=0.3)"
   ]
  },
  {
   "cell_type": "code",
   "execution_count": 174,
   "id": "99e2c4ba-0a28-4b17-8bf8-b44eb1670bb2",
   "metadata": {},
   "outputs": [
    {
     "data": {
      "text/plain": [
       "((805, 30), (805,))"
      ]
     },
     "execution_count": 174,
     "metadata": {},
     "output_type": "execute_result"
    }
   ],
   "source": [
    "X_train.shape, y_train.shape"
   ]
  },
  {
   "cell_type": "code",
   "execution_count": 175,
   "id": "d5134f89-b020-47c2-b30b-a53d3d7f6c61",
   "metadata": {},
   "outputs": [
    {
     "data": {
      "text/plain": [
       "((345, 30), (345,))"
      ]
     },
     "execution_count": 175,
     "metadata": {},
     "output_type": "execute_result"
    }
   ],
   "source": [
    "X_val.shape, y_val.shape"
   ]
  },
  {
   "cell_type": "code",
   "execution_count": 176,
   "id": "af47e121-6800-4117-aea0-a667e4f60262",
   "metadata": {},
   "outputs": [
    {
     "data": {
      "text/plain": [
       "((288, 30), (288,))"
      ]
     },
     "execution_count": 176,
     "metadata": {},
     "output_type": "execute_result"
    }
   ],
   "source": [
    "X_test.shape, y_test.shape"
   ]
  },
  {
   "cell_type": "code",
   "execution_count": 179,
   "id": "a22e46ba-208c-472a-afd9-078e271baf7d",
   "metadata": {},
   "outputs": [],
   "source": [
    "# Data standardization\n",
    "scaler = StandardScaler()\n",
    "X_train_ss = scaler.fit_transform(X_train)\n",
    "X_val_ss = scaler.fit_transform(X_val)\n",
    "X_test_ss = scaler.fit_transform(X_test)"
   ]
  },
  {
   "cell_type": "code",
   "execution_count": 206,
   "id": "668f78f5-4805-490f-93ea-ac8264fa7b0b",
   "metadata": {},
   "outputs": [
    {
     "data": {
      "image/png": "[encoded data removed]",
      "text/plain": [
       "<Figure size 1000x500 with 2 Axes>"
      ]
     },
     "metadata": {},
     "output_type": "display_data"
    }
   ],
   "source": [
    "plt.figure(figsize=(10, 5))\n",
    "plt.subplot(1,2,1)\n",
    "plt.title('Not scaled')\n",
    "sns.kdeplot(X_train, legend=None)\n",
    "plt.subplot(1,2,2)\n",
    "plt.title('Scaled')\n",
    "sns.kdeplot(X_train_ss, legend=None)\n",
    "plt.show()"
   ]
  },
  {
   "cell_type": "markdown",
   "id": "7b226f4d-695d-4e80-a975-b0deb47c6bfe",
   "metadata": {},
   "source": [
    "# Model training "
   ]
  },
  {
   "cell_type": "code",
   "execution_count": 236,
   "id": "839331b5-4878-4c82-a6b9-3cb178e89a1a",
   "metadata": {},
   "outputs": [],
   "source": [
    "model_1 = Sequential([\n",
    "    tf.keras.layers.Dense(50, activation='relu'),\n",
    "    tf.keras.layers.Dense(30, activation='relu'),\n",
    "    tf.keras.layers.Dense(20, activation='relu'),\n",
    "    tf.keras.layers.Dense(1, activation='linear')\n",
    "])\n",
    "\n",
    "model_1.compile(loss=tf.keras.losses.mae,\n",
    "               optimizer=tf.keras.optimizers.Adam(),\n",
    "               metrics=['mae'])"
   ]
  },
  {
   "cell_type": "code",
   "execution_count": 237,
   "id": "e345e10d-3975-4147-8a91-3a9032ccba63",
   "metadata": {},
   "outputs": [],
   "source": [
    "history_1 = model_1.fit(X_train_ss,\n",
    "            y_train,\n",
    "            epochs=200,\n",
    "            validation_data=(X_val_ss,y_val),\n",
    "            verbose=0)"
   ]
  },
  {
   "cell_type": "markdown",
   "id": "e3f6a04b-e46e-4e01-bd36-00fc6d16d7e2",
   "metadata": {},
   "source": [
    "# Evaluate the model"
   ]
  },
  {
   "cell_type": "code",
   "execution_count": 238,
   "id": "76afe510-ba3b-4528-b7d1-67ffd18a0cd9",
   "metadata": {},
   "outputs": [
    {
     "name": "stdout",
     "output_type": "stream",
     "text": [
      "\u001b[1m9/9\u001b[0m \u001b[32m━━━━━━━━━━━━━━━━━━━━\u001b[0m\u001b[37m\u001b[0m \u001b[1m0s\u001b[0m 765us/step - loss: 2.5379 - mae: 2.5379\n"
     ]
    },
    {
     "data": {
      "text/plain": [
       "[2.4453177452087402, 2.4453177452087402]"
      ]
     },
     "execution_count": 238,
     "metadata": {},
     "output_type": "execute_result"
    }
   ],
   "source": [
    "model_1.evaluate(X_test_ss, y_test)"
   ]
  },
  {
   "cell_type": "code",
   "execution_count": 239,
   "id": "ad602945-9c7d-4d7a-9c65-56766a0dae37",
   "metadata": {},
   "outputs": [
    {
     "data": {
      "image/png": "[encoded data removed]",
      "text/plain": [
       "<Figure size 640x480 with 1 Axes>"
      ]
     },
     "metadata": {},
     "output_type": "display_data"
    }
   ],
   "source": [
    "#Visualize loss curves \n",
    "pd.DataFrame(history_1.history).plot(title='Model1', xlabel='Epochs', ylabel='MAE');"
   ]
  },
  {
   "cell_type": "code",
   "execution_count": 240,
   "id": "ff685fd0-6845-4921-8ead-6896b9d28ffc",
   "metadata": {},
   "outputs": [
    {
     "name": "stdout",
     "output_type": "stream",
     "text": [
      "\u001b[1m9/9\u001b[0m \u001b[32m━━━━━━━━━━━━━━━━━━━━\u001b[0m\u001b[37m\u001b[0m \u001b[1m0s\u001b[0m 625us/step\n"
     ]
    }
   ],
   "source": [
    "# make some predictions\n",
    "preds_1 = model_1.predict(X_test_ss)"
   ]
  },
  {
   "cell_type": "code",
   "execution_count": 242,
   "id": "e47f903f-4f94-4a31-a571-bd6ad297dceb",
   "metadata": {},
   "outputs": [
    {
     "data": {
      "text/html": [
       "<div>\n",
       "<style scoped>\n",
       "    .dataframe tbody tr th:only-of-type {\n",
       "        vertical-align: middle;\n",
       "    }\n",
       "\n",
       "    .dataframe tbody tr th {\n",
       "        vertical-align: top;\n",
       "    }\n",
       "\n",
       "    .dataframe thead th {\n",
       "        text-align: right;\n",
       "    }\n",
       "</style>\n",
       "<table border=\"1\" class=\"dataframe\">\n",
       "  <thead>\n",
       "    <tr style=\"text-align: right;\">\n",
       "      <th></th>\n",
       "      <th>Y true</th>\n",
       "      <th>Y pred</th>\n",
       "    </tr>\n",
       "  </thead>\n",
       "  <tbody>\n",
       "    <tr>\n",
       "      <th>84</th>\n",
       "      <td>18</td>\n",
       "      <td>18.150103</td>\n",
       "    </tr>\n",
       "    <tr>\n",
       "      <th>1845</th>\n",
       "      <td>42</td>\n",
       "      <td>43.972172</td>\n",
       "    </tr>\n",
       "    <tr>\n",
       "      <th>1310</th>\n",
       "      <td>38</td>\n",
       "      <td>38.262978</td>\n",
       "    </tr>\n",
       "    <tr>\n",
       "      <th>1818</th>\n",
       "      <td>24</td>\n",
       "      <td>24.586975</td>\n",
       "    </tr>\n",
       "    <tr>\n",
       "      <th>1011</th>\n",
       "      <td>44</td>\n",
       "      <td>45.287586</td>\n",
       "    </tr>\n",
       "    <tr>\n",
       "      <th>...</th>\n",
       "      <td>...</td>\n",
       "      <td>...</td>\n",
       "    </tr>\n",
       "    <tr>\n",
       "      <th>705</th>\n",
       "      <td>42</td>\n",
       "      <td>32.191219</td>\n",
       "    </tr>\n",
       "    <tr>\n",
       "      <th>1927</th>\n",
       "      <td>30</td>\n",
       "      <td>30.473816</td>\n",
       "    </tr>\n",
       "    <tr>\n",
       "      <th>338</th>\n",
       "      <td>18</td>\n",
       "      <td>16.540398</td>\n",
       "    </tr>\n",
       "    <tr>\n",
       "      <th>176</th>\n",
       "      <td>24</td>\n",
       "      <td>23.481129</td>\n",
       "    </tr>\n",
       "    <tr>\n",
       "      <th>780</th>\n",
       "      <td>36</td>\n",
       "      <td>37.751049</td>\n",
       "    </tr>\n",
       "  </tbody>\n",
       "</table>\n",
       "<p>288 rows × 2 columns</p>\n",
       "</div>"
      ],
      "text/plain": [
       "      Y true     Y pred\n",
       "84        18  18.150103\n",
       "1845      42  43.972172\n",
       "1310      38  38.262978\n",
       "1818      24  24.586975\n",
       "1011      44  45.287586\n",
       "...      ...        ...\n",
       "705       42  32.191219\n",
       "1927      30  30.473816\n",
       "338       18  16.540398\n",
       "176       24  23.481129\n",
       "780       36  37.751049\n",
       "\n",
       "[288 rows x 2 columns]"
      ]
     },
     "execution_count": 242,
     "metadata": {},
     "output_type": "execute_result"
    }
   ],
   "source": [
    "# Visualize preds vs true values\n",
    "pd.DataFrame({'Y true': y_test, 'Y pred':tf.squeeze(preds_1)})"
   ]
  }
 ],
 "metadata": {
  "kernelspec": {
   "display_name": "Python 3 (ipykernel)",
   "language": "python",
   "name": "python3"
  },
  "language_info": {
   "codemirror_mode": {
    "name": "ipython",
    "version": 3
   },
   "file_extension": ".py",
   "mimetype": "text/x-python",
   "name": "python",
   "nbconvert_exporter": "python",
   "pygments_lexer": "ipython3",
   "version": "3.11.7"
  }
 },
 "nbformat": 4,
 "nbformat_minor": 5
}
